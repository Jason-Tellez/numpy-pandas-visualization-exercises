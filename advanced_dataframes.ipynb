{
 "cells": [
  {
   "cell_type": "markdown",
   "id": "c57f7bce",
   "metadata": {},
   "source": [
    "### Create a function named get_db_url. It should accept a username, hostname, password, and database name and return a url connection string formatted like in the example at the start of this lesson."
   ]
  },
  {
   "cell_type": "code",
   "execution_count": 1,
   "id": "e2954969",
   "metadata": {},
   "outputs": [],
   "source": [
    "import pandas as pd\n",
    "import numpy as np"
   ]
  },
  {
   "cell_type": "code",
   "execution_count": 2,
   "id": "0f708e99",
   "metadata": {},
   "outputs": [],
   "source": [
    "from env import host, user, password\n",
    "def get_db_url(user, password, host, database):\n",
    "    return f'mysql+pymysql://{user}:{password}@{host}/{database}'\n",
    "url = get_db_url(user, password, host, 'employees')"
   ]
  },
  {
   "cell_type": "code",
   "execution_count": null,
   "id": "b2d6fd9e",
   "metadata": {},
   "outputs": [],
   "source": [
    "pd.read_sql('SELECT * FROM employees LIMIT 5 OFFSET 50', url)"
   ]
  },
  {
   "cell_type": "markdown",
   "id": "06081a0c",
   "metadata": {},
   "source": [
    "### Once you have successfully run a query:"
   ]
  },
  {
   "cell_type": "markdown",
   "id": "54c13d3f",
   "metadata": {},
   "source": [
    "#### a. Intentionally make a typo in the database url. What kind of error message do you see?"
   ]
  },
  {
   "cell_type": "code",
   "execution_count": null,
   "id": "2255937f",
   "metadata": {
    "scrolled": false
   },
   "outputs": [],
   "source": [
    "get_db_url = f'mysql+pymysql://{user}:{password}@{host}/emlyees'\n",
    "pd.read_sql('SELECT * FROM employees LIMIT 5 OFFSET 50', get_db_url)"
   ]
  },
  {
   "cell_type": "code",
   "execution_count": null,
   "id": "7a0e4767",
   "metadata": {},
   "outputs": [],
   "source": [
    "The error tells me that my access was denied"
   ]
  },
  {
   "cell_type": "markdown",
   "id": "e1b5cce9",
   "metadata": {},
   "source": [
    "#### b. Intentionally make an error in your SQL query. What does the error message look like?"
   ]
  },
  {
   "cell_type": "code",
   "execution_count": null,
   "id": "127c8634",
   "metadata": {},
   "outputs": [],
   "source": [
    "pd.read_sql('SELECT * FROM employes LIMIT 5 OFFSET 50', url)"
   ]
  },
  {
   "cell_type": "markdown",
   "id": "30f38db5",
   "metadata": {},
   "source": [
    "The error tells me that the table does not exist"
   ]
  },
  {
   "cell_type": "markdown",
   "id": "e8339eb4",
   "metadata": {},
   "source": [
    "#### Read the employees and titles tables into two separate DataFrames."
   ]
  },
  {
   "cell_type": "code",
   "execution_count": null,
   "id": "04ceda8d",
   "metadata": {},
   "outputs": [],
   "source": [
    "get_db_url = f'mysql+pymysql://{user}:{password}@{host}/employees'\n",
    "employees = pd.read_sql('SELECT * FROM employees', get_db_url)"
   ]
  },
  {
   "cell_type": "code",
   "execution_count": null,
   "id": "ff48ff30",
   "metadata": {},
   "outputs": [],
   "source": [
    "get_db_url = f'mysql+pymysql://{user}:{password}@{host}/employees'\n",
    "titles = pd.read_sql('SELECT * FROM titles', get_db_url)"
   ]
  },
  {
   "cell_type": "markdown",
   "id": "1be9d5f8",
   "metadata": {},
   "source": [
    "#### How many rows and columns do you have in each DataFrame? Is that what you expected?"
   ]
  },
  {
   "cell_type": "code",
   "execution_count": null,
   "id": "1e9f6046",
   "metadata": {},
   "outputs": [],
   "source": [
    "titles.shape"
   ]
  },
  {
   "cell_type": "code",
   "execution_count": null,
   "id": "98c43f64",
   "metadata": {},
   "outputs": [],
   "source": [
    "employees.shape"
   ]
  },
  {
   "cell_type": "markdown",
   "id": "7939c87a",
   "metadata": {},
   "source": [
    "The employees table is (300024 x 6) and the titles table is (443308 x 4)"
   ]
  },
  {
   "cell_type": "markdown",
   "id": "3c02f50f",
   "metadata": {},
   "source": [
    "#### Display the summary statistics for each DataFrame."
   ]
  },
  {
   "cell_type": "code",
   "execution_count": null,
   "id": "f2e1dd30",
   "metadata": {},
   "outputs": [],
   "source": [
    "employees.info()\n",
    "employees.describe()"
   ]
  },
  {
   "cell_type": "code",
   "execution_count": null,
   "id": "df294efd",
   "metadata": {},
   "outputs": [],
   "source": [
    "titles.info()\n",
    "titles.describe()"
   ]
  },
  {
   "cell_type": "markdown",
   "id": "4f9dd0db",
   "metadata": {},
   "source": [
    "#### How many unique titles are in the titles DataFrame?"
   ]
  },
  {
   "cell_type": "code",
   "execution_count": null,
   "id": "62972abe",
   "metadata": {},
   "outputs": [],
   "source": [
    "len(titles.title.value_counts())"
   ]
  },
  {
   "cell_type": "markdown",
   "id": "fe66618d",
   "metadata": {},
   "source": [
    "There are 7 unique titles in the title df"
   ]
  },
  {
   "cell_type": "markdown",
   "id": "3d550dd0",
   "metadata": {},
   "source": [
    "#### What is the oldest date in the to_date column?"
   ]
  },
  {
   "cell_type": "code",
   "execution_count": null,
   "id": "f33bc99f",
   "metadata": {},
   "outputs": [],
   "source": [
    "titles.to_date.sort_values().head(1)"
   ]
  },
  {
   "cell_type": "markdown",
   "id": "2f51d97e",
   "metadata": {},
   "source": [
    "The oldest date is March 11, 1985"
   ]
  },
  {
   "cell_type": "markdown",
   "id": "a5b46028",
   "metadata": {},
   "source": [
    "#### What is the most recent date in the to_date column?"
   ]
  },
  {
   "cell_type": "code",
   "execution_count": null,
   "id": "01fb83cf",
   "metadata": {},
   "outputs": [],
   "source": [
    "todate = titles.to_date.unique()\n",
    "np.sort(todate)"
   ]
  },
  {
   "cell_type": "markdown",
   "id": "d8fa66e1",
   "metadata": {},
   "source": [
    "The most recent date is August 1, 2002"
   ]
  },
  {
   "cell_type": "code",
   "execution_count": null,
   "id": "9ecf03a5",
   "metadata": {},
   "outputs": [],
   "source": [
    "pd.read_sql('SELECT * FROM titles WHERE to_date < NOW() ORDER BY to_date DESC LIMIT 5', url)"
   ]
  },
  {
   "cell_type": "markdown",
   "id": "b3cb156f",
   "metadata": {},
   "source": [
    "### Exercise 2"
   ]
  },
  {
   "cell_type": "code",
   "execution_count": null,
   "id": "e82cea1f",
   "metadata": {},
   "outputs": [],
   "source": [
    "from pydataset import data\n",
    "import pandas as pd\n",
    "import numpy as np"
   ]
  },
  {
   "cell_type": "markdown",
   "id": "1f1c15af",
   "metadata": {},
   "source": [
    "#### 1. Copy the users and roles DataFrames from the examples above."
   ]
  },
  {
   "cell_type": "code",
   "execution_count": null,
   "id": "b2da38a1",
   "metadata": {},
   "outputs": [],
   "source": [
    "roles = pd.DataFrame({\n",
    "    'id': [1, 2, 3, 4],\n",
    "    'name': ['admin', 'author', 'reviewer', 'commenter']\n",
    "})\n",
    "roles"
   ]
  },
  {
   "cell_type": "code",
   "execution_count": null,
   "id": "08a41b8e",
   "metadata": {},
   "outputs": [],
   "source": [
    "users = pd.DataFrame({\n",
    "    'id': [1, 2, 3, 4, 5, 6],\n",
    "    'name': ['bob', 'joe', 'sally', 'adam', 'jane', 'mike'],\n",
    "    'role_id': [1, 2, 3, 3, np.nan, np.nan]\n",
    "})\n",
    "users"
   ]
  },
  {
   "cell_type": "markdown",
   "id": "e735212b",
   "metadata": {},
   "source": [
    "#### 2. What is the result of using a right join on the DataFrames?"
   ]
  },
  {
   "cell_type": "code",
   "execution_count": null,
   "id": "54ee98e3",
   "metadata": {},
   "outputs": [],
   "source": [
    "users.merge(roles, left_on='role_id', right_on='id', how='right', indicator=True)"
   ]
  },
  {
   "cell_type": "code",
   "execution_count": null,
   "id": "56cb348f",
   "metadata": {},
   "outputs": [],
   "source": [
    "roles.merge(users, left_on='id', right_on='role_id', how='right', indicator=True)"
   ]
  },
  {
   "cell_type": "markdown",
   "id": "3d0c9697",
   "metadata": {},
   "source": [
    "#### 3. What is the result of using an outer join on the DataFrames?"
   ]
  },
  {
   "cell_type": "code",
   "execution_count": null,
   "id": "8742bad9",
   "metadata": {},
   "outputs": [],
   "source": [
    "users.merge(roles, left_on='role_id', right_on='id', how='outer', indicator=True)"
   ]
  },
  {
   "cell_type": "code",
   "execution_count": null,
   "id": "5542e91a",
   "metadata": {},
   "outputs": [],
   "source": [
    "roles.merge(users, left_on='id', right_on='role_id', how='outer', indicator=True)"
   ]
  },
  {
   "cell_type": "markdown",
   "id": "0cd94ae4",
   "metadata": {},
   "source": [
    "#### 4. What happens if you drop the foreign keys from the DataFrames and try to merge them?"
   ]
  },
  {
   "cell_type": "code",
   "execution_count": null,
   "id": "b7d35151",
   "metadata": {},
   "outputs": [],
   "source": [
    "users.merge(roles, how='outer', indicator=True)"
   ]
  },
  {
   "cell_type": "markdown",
   "id": "9cb556a3",
   "metadata": {},
   "source": [
    "#### 5. Load the mpg dataset from PyDataset."
   ]
  },
  {
   "cell_type": "code",
   "execution_count": null,
   "id": "fa8637e2",
   "metadata": {},
   "outputs": [],
   "source": [
    "mpg = data('mpg')"
   ]
  },
  {
   "cell_type": "markdown",
   "id": "f9da9b8b",
   "metadata": {},
   "source": [
    "#### 6. Output and read the documentation for the mpg dataset."
   ]
  },
  {
   "cell_type": "code",
   "execution_count": null,
   "id": "9de1060b",
   "metadata": {},
   "outputs": [],
   "source": [
    "mpg"
   ]
  },
  {
   "cell_type": "markdown",
   "id": "aa33d725",
   "metadata": {},
   "source": [
    "#### 7. How many rows and columns are in the dataset?\n",
    "\n"
   ]
  },
  {
   "cell_type": "code",
   "execution_count": null,
   "id": "f13d42a2",
   "metadata": {},
   "outputs": [],
   "source": [
    "mpg.shape"
   ]
  },
  {
   "cell_type": "markdown",
   "id": "10839a7f",
   "metadata": {},
   "source": [
    "#### 8. Check out your column names and perform any cleanup you may want on them.\n",
    "\n"
   ]
  },
  {
   "cell_type": "code",
   "execution_count": null,
   "id": "150ac5fa",
   "metadata": {},
   "outputs": [],
   "source": [
    "mpg.columns\n",
    "mpg = mpg.rename(columns={'fl': 'fuel'})"
   ]
  },
  {
   "cell_type": "markdown",
   "id": "cfd13c62",
   "metadata": {},
   "source": [
    "#### 9. Display the summary statistics for the dataset."
   ]
  },
  {
   "cell_type": "code",
   "execution_count": null,
   "id": "c8ace922",
   "metadata": {},
   "outputs": [],
   "source": [
    "mpg.describe()"
   ]
  },
  {
   "cell_type": "code",
   "execution_count": null,
   "id": "1e95a6cc",
   "metadata": {},
   "outputs": [],
   "source": [
    "mpg.info()"
   ]
  },
  {
   "cell_type": "markdown",
   "id": "8930f0b1",
   "metadata": {},
   "source": [
    "#### 10. How many different manufacturers are there?"
   ]
  },
  {
   "cell_type": "code",
   "execution_count": null,
   "id": "4d8e4a87",
   "metadata": {},
   "outputs": [],
   "source": [
    "mpg.manufacturer.value_counts()\n",
    "len(mpg.manufacturer.value_counts())"
   ]
  },
  {
   "cell_type": "markdown",
   "id": "c67daa28",
   "metadata": {},
   "source": [
    "#### 11. How many different models are there?"
   ]
  },
  {
   "cell_type": "code",
   "execution_count": null,
   "id": "9c8a5634",
   "metadata": {},
   "outputs": [],
   "source": [
    "mpg.model.value_counts()\n",
    "len(mpg.model.value_counts())"
   ]
  },
  {
   "cell_type": "markdown",
   "id": "48a272d2",
   "metadata": {},
   "source": [
    "#### 12. Create a column named mileage_difference like you did in the DataFrames exercises; this column should contain the difference between highway and city mileage for each car."
   ]
  },
  {
   "cell_type": "code",
   "execution_count": null,
   "id": "c334508e",
   "metadata": {},
   "outputs": [],
   "source": [
    "mpg['mileage_difference'] = (mpg.hwy - mpg.cty)"
   ]
  },
  {
   "cell_type": "code",
   "execution_count": null,
   "id": "13f3b2bd",
   "metadata": {},
   "outputs": [],
   "source": [
    "mpg"
   ]
  },
  {
   "cell_type": "markdown",
   "id": "09c050ff",
   "metadata": {},
   "source": [
    "#### 13. Create a column named average_mileage like you did in the DataFrames exercises; this is the mean of the city and highway mileage."
   ]
  },
  {
   "cell_type": "code",
   "execution_count": null,
   "id": "e43d2c1c",
   "metadata": {},
   "outputs": [],
   "source": [
    "mpg['average_mileage'] = round((mpg.cty + mpg.hwy) / 2, 2)"
   ]
  },
  {
   "cell_type": "code",
   "execution_count": null,
   "id": "eb975a41",
   "metadata": {},
   "outputs": [],
   "source": [
    "mpg"
   ]
  },
  {
   "cell_type": "markdown",
   "id": "38f278f0",
   "metadata": {},
   "source": [
    "#### 14. Create a new column on the mpg dataset named is_automatic that holds boolean values denoting whether the car has an automatic transmission."
   ]
  },
  {
   "cell_type": "code",
   "execution_count": null,
   "id": "4aa7ec93",
   "metadata": {},
   "outputs": [],
   "source": [
    "mpg['is_automatic'] = mpg.trans.str.startswith(\"auto\")"
   ]
  },
  {
   "cell_type": "code",
   "execution_count": null,
   "id": "810a6d1b",
   "metadata": {},
   "outputs": [],
   "source": [
    "mpg"
   ]
  },
  {
   "cell_type": "markdown",
   "id": "ec525af4",
   "metadata": {},
   "source": [
    "#### 15. Using the mpg dataset, find out which which manufacturer has the best miles per gallon on average?"
   ]
  },
  {
   "cell_type": "code",
   "execution_count": null,
   "id": "9b5431cf",
   "metadata": {},
   "outputs": [],
   "source": [
    "mpg.groupby('manufacturer').average_mileage.agg('mean').sort_values().tail(1)"
   ]
  },
  {
   "cell_type": "markdown",
   "id": "f63568e5",
   "metadata": {},
   "source": [
    "#### 16. Do automatic or manual cars have better miles per gallon?"
   ]
  },
  {
   "cell_type": "code",
   "execution_count": null,
   "id": "4d442e54",
   "metadata": {},
   "outputs": [],
   "source": [
    "mpg.groupby('is_automatic').average_mileage.agg(['mean', 'max', 'min', 'count'])"
   ]
  },
  {
   "cell_type": "markdown",
   "id": "46aeb37a",
   "metadata": {},
   "source": [
    "On average, manuals get better mileage"
   ]
  },
  {
   "cell_type": "markdown",
   "id": "2d0f869e",
   "metadata": {},
   "source": [
    "### Exercise 3"
   ]
  },
  {
   "cell_type": "markdown",
   "id": "49e8d58a",
   "metadata": {},
   "source": [
    "#### 1. Use your get_db_url function to help you explore the data from the chipotle database."
   ]
  },
  {
   "cell_type": "code",
   "execution_count": 61,
   "id": "749f4879",
   "metadata": {},
   "outputs": [],
   "source": [
    "from env import host, user, password\n",
    "def get_db_url(user, password, host, database):\n",
    "    return f'mysql+pymysql://{user}:{password}@{host}/{database}'\n",
    "url = get_db_url(user, password, host, 'chipotle')"
   ]
  },
  {
   "cell_type": "code",
   "execution_count": 62,
   "id": "ef993086",
   "metadata": {},
   "outputs": [
    {
     "data": {
      "text/html": [
       "<div>\n",
       "<style scoped>\n",
       "    .dataframe tbody tr th:only-of-type {\n",
       "        vertical-align: middle;\n",
       "    }\n",
       "\n",
       "    .dataframe tbody tr th {\n",
       "        vertical-align: top;\n",
       "    }\n",
       "\n",
       "    .dataframe thead th {\n",
       "        text-align: right;\n",
       "    }\n",
       "</style>\n",
       "<table border=\"1\" class=\"dataframe\">\n",
       "  <thead>\n",
       "    <tr style=\"text-align: right;\">\n",
       "      <th></th>\n",
       "      <th>id</th>\n",
       "      <th>order_id</th>\n",
       "      <th>quantity</th>\n",
       "      <th>item_name</th>\n",
       "      <th>choice_description</th>\n",
       "      <th>item_price</th>\n",
       "    </tr>\n",
       "  </thead>\n",
       "  <tbody>\n",
       "    <tr>\n",
       "      <th>4</th>\n",
       "      <td>5</td>\n",
       "      <td>2</td>\n",
       "      <td>2</td>\n",
       "      <td>Chicken Bowl</td>\n",
       "      <td>[Tomatillo-Red Chili Salsa (Hot), [Black Beans...</td>\n",
       "      <td>$16.98</td>\n",
       "    </tr>\n",
       "    <tr>\n",
       "      <th>5</th>\n",
       "      <td>6</td>\n",
       "      <td>3</td>\n",
       "      <td>1</td>\n",
       "      <td>Chicken Bowl</td>\n",
       "      <td>[Fresh Tomato Salsa (Mild), [Rice, Cheese, Sou...</td>\n",
       "      <td>$10.98</td>\n",
       "    </tr>\n",
       "    <tr>\n",
       "      <th>13</th>\n",
       "      <td>14</td>\n",
       "      <td>7</td>\n",
       "      <td>1</td>\n",
       "      <td>Chicken Bowl</td>\n",
       "      <td>[Fresh Tomato Salsa, [Fajita Vegetables, Rice,...</td>\n",
       "      <td>$11.25</td>\n",
       "    </tr>\n",
       "    <tr>\n",
       "      <th>19</th>\n",
       "      <td>20</td>\n",
       "      <td>10</td>\n",
       "      <td>1</td>\n",
       "      <td>Chicken Bowl</td>\n",
       "      <td>[Tomatillo Red Chili Salsa, [Fajita Vegetables...</td>\n",
       "      <td>$8.75</td>\n",
       "    </tr>\n",
       "    <tr>\n",
       "      <th>26</th>\n",
       "      <td>27</td>\n",
       "      <td>13</td>\n",
       "      <td>1</td>\n",
       "      <td>Chicken Bowl</td>\n",
       "      <td>[Roasted Chili Corn Salsa (Medium), [Pinto Bea...</td>\n",
       "      <td>$8.49</td>\n",
       "    </tr>\n",
       "    <tr>\n",
       "      <th>...</th>\n",
       "      <td>...</td>\n",
       "      <td>...</td>\n",
       "      <td>...</td>\n",
       "      <td>...</td>\n",
       "      <td>...</td>\n",
       "      <td>...</td>\n",
       "    </tr>\n",
       "    <tr>\n",
       "      <th>4590</th>\n",
       "      <td>4591</td>\n",
       "      <td>1825</td>\n",
       "      <td>1</td>\n",
       "      <td>Chicken Bowl</td>\n",
       "      <td>[Roasted Chili Corn Salsa, [Rice, Black Beans,...</td>\n",
       "      <td>$11.25</td>\n",
       "    </tr>\n",
       "    <tr>\n",
       "      <th>4591</th>\n",
       "      <td>4592</td>\n",
       "      <td>1825</td>\n",
       "      <td>1</td>\n",
       "      <td>Chicken Bowl</td>\n",
       "      <td>[Tomatillo Red Chili Salsa, [Rice, Black Beans...</td>\n",
       "      <td>$8.75</td>\n",
       "    </tr>\n",
       "    <tr>\n",
       "      <th>4595</th>\n",
       "      <td>4596</td>\n",
       "      <td>1826</td>\n",
       "      <td>1</td>\n",
       "      <td>Chicken Bowl</td>\n",
       "      <td>[Tomatillo Green Chili Salsa, [Rice, Black Bea...</td>\n",
       "      <td>$8.75</td>\n",
       "    </tr>\n",
       "    <tr>\n",
       "      <th>4599</th>\n",
       "      <td>4600</td>\n",
       "      <td>1827</td>\n",
       "      <td>1</td>\n",
       "      <td>Chicken Bowl</td>\n",
       "      <td>[Roasted Chili Corn Salsa, [Cheese, Lettuce]]</td>\n",
       "      <td>$8.75</td>\n",
       "    </tr>\n",
       "    <tr>\n",
       "      <th>4604</th>\n",
       "      <td>4605</td>\n",
       "      <td>1828</td>\n",
       "      <td>1</td>\n",
       "      <td>Chicken Bowl</td>\n",
       "      <td>[Fresh Tomato Salsa, [Rice, Black Beans, Chees...</td>\n",
       "      <td>$8.75</td>\n",
       "    </tr>\n",
       "  </tbody>\n",
       "</table>\n",
       "<p>726 rows × 6 columns</p>\n",
       "</div>"
      ],
      "text/plain": [
       "        id  order_id  quantity     item_name  \\\n",
       "4        5         2         2  Chicken Bowl   \n",
       "5        6         3         1  Chicken Bowl   \n",
       "13      14         7         1  Chicken Bowl   \n",
       "19      20        10         1  Chicken Bowl   \n",
       "26      27        13         1  Chicken Bowl   \n",
       "...    ...       ...       ...           ...   \n",
       "4590  4591      1825         1  Chicken Bowl   \n",
       "4591  4592      1825         1  Chicken Bowl   \n",
       "4595  4596      1826         1  Chicken Bowl   \n",
       "4599  4600      1827         1  Chicken Bowl   \n",
       "4604  4605      1828         1  Chicken Bowl   \n",
       "\n",
       "                                     choice_description item_price  \n",
       "4     [Tomatillo-Red Chili Salsa (Hot), [Black Beans...    $16.98   \n",
       "5     [Fresh Tomato Salsa (Mild), [Rice, Cheese, Sou...    $10.98   \n",
       "13    [Fresh Tomato Salsa, [Fajita Vegetables, Rice,...    $11.25   \n",
       "19    [Tomatillo Red Chili Salsa, [Fajita Vegetables...     $8.75   \n",
       "26    [Roasted Chili Corn Salsa (Medium), [Pinto Bea...     $8.49   \n",
       "...                                                 ...        ...  \n",
       "4590  [Roasted Chili Corn Salsa, [Rice, Black Beans,...    $11.25   \n",
       "4591  [Tomatillo Red Chili Salsa, [Rice, Black Beans...     $8.75   \n",
       "4595  [Tomatillo Green Chili Salsa, [Rice, Black Bea...     $8.75   \n",
       "4599      [Roasted Chili Corn Salsa, [Cheese, Lettuce]]     $8.75   \n",
       "4604  [Fresh Tomato Salsa, [Rice, Black Beans, Chees...     $8.75   \n",
       "\n",
       "[726 rows x 6 columns]"
      ]
     },
     "execution_count": 62,
     "metadata": {},
     "output_type": "execute_result"
    }
   ],
   "source": [
    "orders = pd.read_sql('SELECT * FROM orders', url)\n",
    "orders[orders.item_name == \"Chicken Bowl\"]"
   ]
  },
  {
   "cell_type": "markdown",
   "id": "32befed9",
   "metadata": {},
   "source": [
    "#### 2. What is the total price for each order?"
   ]
  },
  {
   "cell_type": "code",
   "execution_count": 63,
   "id": "d042481d",
   "metadata": {
    "scrolled": true
   },
   "outputs": [
    {
     "name": "stderr",
     "output_type": "stream",
     "text": [
      "<ipython-input-63-a9d5e3d2e9ae>:1: FutureWarning: The default value of regex will change from True to False in a future version. In addition, single character regular expressions will*not* be treated as literal strings when regex=True.\n",
      "  orders['item_prices'] = orders.item_price.str.replace('$', '').astype(float)\n"
     ]
    },
    {
     "data": {
      "text/plain": [
       "order_id\n",
       "1       11.56\n",
       "2       16.98\n",
       "3       12.67\n",
       "4       21.00\n",
       "5       13.70\n",
       "        ...  \n",
       "1830    23.00\n",
       "1831    12.90\n",
       "1832    13.20\n",
       "1833    23.50\n",
       "1834    28.75\n",
       "Name: item_prices, Length: 1834, dtype: float64"
      ]
     },
     "execution_count": 63,
     "metadata": {},
     "output_type": "execute_result"
    }
   ],
   "source": [
    "orders['item_prices'] = orders.item_price.str.replace('$', '').astype(float)\n",
    "orders.groupby('order_id').item_prices.sum()"
   ]
  },
  {
   "cell_type": "markdown",
   "id": "09cd724f",
   "metadata": {},
   "source": [
    "#### 3. What are the most popular 3 items?"
   ]
  },
  {
   "cell_type": "code",
   "execution_count": 70,
   "id": "4efb9044",
   "metadata": {},
   "outputs": [
    {
     "data": {
      "text/plain": [
       "Chicken Bowl           726\n",
       "Chicken Burrito        553\n",
       "Chips and Guacamole    479\n",
       "Name: item_name, dtype: int64"
      ]
     },
     "execution_count": 70,
     "metadata": {},
     "output_type": "execute_result"
    }
   ],
   "source": [
    "orders.item_name.value_counts().head(3)"
   ]
  },
  {
   "cell_type": "markdown",
   "id": "bbb199fb",
   "metadata": {},
   "source": [
    "#### 4. Which item has produced the most revenue?"
   ]
  },
  {
   "cell_type": "code",
   "execution_count": 71,
   "id": "a9d7cabb",
   "metadata": {},
   "outputs": [
    {
     "data": {
      "text/plain": [
       "item_name\n",
       "Chicken Bowl    7342.73\n",
       "Name: item_prices, dtype: float64"
      ]
     },
     "execution_count": 71,
     "metadata": {},
     "output_type": "execute_result"
    }
   ],
   "source": [
    "orders.groupby('item_name').item_prices.sum().sort_values().tail(1)"
   ]
  },
  {
   "cell_type": "markdown",
   "id": "7dcb1dae",
   "metadata": {},
   "source": [
    "#### 5. Join the employees and titles DataFrames together."
   ]
  },
  {
   "cell_type": "code",
   "execution_count": null,
   "id": "d7d881b4",
   "metadata": {},
   "outputs": [],
   "source": [
    "get_db_url = f'mysql+pymysql://{user}:{password}@{host}/employees'\n",
    "titles = pd.read_sql('SELECT * FROM titles', get_db_url)\n",
    "employees = pd.read_sql('SELECT * FROM employees', get_db_url)"
   ]
  },
  {
   "cell_type": "code",
   "execution_count": null,
   "id": "a697b5fc",
   "metadata": {},
   "outputs": [],
   "source": [
    "employees"
   ]
  },
  {
   "cell_type": "code",
   "execution_count": null,
   "id": "a27939f1",
   "metadata": {},
   "outputs": [],
   "source": [
    "titles"
   ]
  },
  {
   "cell_type": "code",
   "execution_count": null,
   "id": "72e8269b",
   "metadata": {},
   "outputs": [],
   "source": [
    "emp_titles = employees.merge(titles, on='emp_no', how='outer', indicator=True)"
   ]
  },
  {
   "cell_type": "code",
   "execution_count": null,
   "id": "0e588d10",
   "metadata": {},
   "outputs": [],
   "source": [
    "emp_titles"
   ]
  },
  {
   "cell_type": "markdown",
   "id": "f6ec2da6",
   "metadata": {},
   "source": [
    "#### 6. For each title, find the hire date of the employee that was hired most recently with that title."
   ]
  },
  {
   "cell_type": "code",
   "execution_count": 29,
   "id": "a3215653",
   "metadata": {},
   "outputs": [
    {
     "data": {
      "text/plain": [
       "title\n",
       "Assistant Engineer    1999-12-24\n",
       "Engineer              2000-01-28\n",
       "Manager               1992-02-05\n",
       "Senior Engineer       2000-01-01\n",
       "Senior Staff          2000-01-13\n",
       "Staff                 2000-01-12\n",
       "Technique Leader      1999-12-31\n",
       "Name: hire_date, dtype: object"
      ]
     },
     "execution_count": 29,
     "metadata": {},
     "output_type": "execute_result"
    }
   ],
   "source": [
    "emp_titles.groupby('title').hire_date.max()"
   ]
  },
  {
   "cell_type": "markdown",
   "id": "2f1a8b9b",
   "metadata": {},
   "source": [
    "#### 7. Write the code necessary to create a cross tabulation of the number of titles by department. (Hint: this will involve a combination of SQL code to pull the necessary data and python/pandas code to perform the manipulations.)"
   ]
  },
  {
   "cell_type": "code",
   "execution_count": 55,
   "id": "71b96810",
   "metadata": {},
   "outputs": [],
   "source": [
    "dept_emp = pd.read_sql('SELECT * FROM dept_emp WHERE to_date > NOW()', get_db_url)\n",
    "titles = pd.read_sql('SELECT * FROM titles WHERE to_date > NOW()', get_db_url)\n",
    "dept = pd.read_sql('SELECT * FROM departments', get_db_url)"
   ]
  },
  {
   "cell_type": "code",
   "execution_count": 56,
   "id": "3e32f482",
   "metadata": {},
   "outputs": [],
   "source": [
    "td = titles.merge(dept_emp, on='emp_no', how='outer', indicator=True)\n",
    "de_total = td.merge(dept, on='dept_no', how='outer')"
   ]
  },
  {
   "cell_type": "code",
   "execution_count": 59,
   "id": "9b273292",
   "metadata": {},
   "outputs": [
    {
     "data": {
      "text/html": [
       "<div>\n",
       "<style scoped>\n",
       "    .dataframe tbody tr th:only-of-type {\n",
       "        vertical-align: middle;\n",
       "    }\n",
       "\n",
       "    .dataframe tbody tr th {\n",
       "        vertical-align: top;\n",
       "    }\n",
       "\n",
       "    .dataframe thead th {\n",
       "        text-align: right;\n",
       "    }\n",
       "</style>\n",
       "<table border=\"1\" class=\"dataframe\">\n",
       "  <thead>\n",
       "    <tr style=\"text-align: right;\">\n",
       "      <th>dept_name</th>\n",
       "      <th>Customer Service</th>\n",
       "      <th>Development</th>\n",
       "      <th>Finance</th>\n",
       "      <th>Human Resources</th>\n",
       "      <th>Marketing</th>\n",
       "      <th>Production</th>\n",
       "      <th>Quality Management</th>\n",
       "      <th>Research</th>\n",
       "      <th>Sales</th>\n",
       "      <th>All</th>\n",
       "    </tr>\n",
       "    <tr>\n",
       "      <th>title</th>\n",
       "      <th></th>\n",
       "      <th></th>\n",
       "      <th></th>\n",
       "      <th></th>\n",
       "      <th></th>\n",
       "      <th></th>\n",
       "      <th></th>\n",
       "      <th></th>\n",
       "      <th></th>\n",
       "      <th></th>\n",
       "    </tr>\n",
       "  </thead>\n",
       "  <tbody>\n",
       "    <tr>\n",
       "      <th>Assistant Engineer</th>\n",
       "      <td>68</td>\n",
       "      <td>1652</td>\n",
       "      <td>0</td>\n",
       "      <td>0</td>\n",
       "      <td>0</td>\n",
       "      <td>1402</td>\n",
       "      <td>389</td>\n",
       "      <td>77</td>\n",
       "      <td>0</td>\n",
       "      <td>3588</td>\n",
       "    </tr>\n",
       "    <tr>\n",
       "      <th>Engineer</th>\n",
       "      <td>627</td>\n",
       "      <td>14040</td>\n",
       "      <td>0</td>\n",
       "      <td>0</td>\n",
       "      <td>0</td>\n",
       "      <td>12081</td>\n",
       "      <td>3405</td>\n",
       "      <td>830</td>\n",
       "      <td>0</td>\n",
       "      <td>30983</td>\n",
       "    </tr>\n",
       "    <tr>\n",
       "      <th>Manager</th>\n",
       "      <td>1</td>\n",
       "      <td>1</td>\n",
       "      <td>1</td>\n",
       "      <td>1</td>\n",
       "      <td>1</td>\n",
       "      <td>1</td>\n",
       "      <td>1</td>\n",
       "      <td>1</td>\n",
       "      <td>1</td>\n",
       "      <td>9</td>\n",
       "    </tr>\n",
       "    <tr>\n",
       "      <th>Senior Engineer</th>\n",
       "      <td>1790</td>\n",
       "      <td>38816</td>\n",
       "      <td>0</td>\n",
       "      <td>0</td>\n",
       "      <td>0</td>\n",
       "      <td>33625</td>\n",
       "      <td>9458</td>\n",
       "      <td>2250</td>\n",
       "      <td>0</td>\n",
       "      <td>85939</td>\n",
       "    </tr>\n",
       "    <tr>\n",
       "      <th>Senior Staff</th>\n",
       "      <td>11268</td>\n",
       "      <td>1085</td>\n",
       "      <td>9545</td>\n",
       "      <td>9824</td>\n",
       "      <td>11290</td>\n",
       "      <td>1123</td>\n",
       "      <td>0</td>\n",
       "      <td>9092</td>\n",
       "      <td>28797</td>\n",
       "      <td>82024</td>\n",
       "    </tr>\n",
       "    <tr>\n",
       "      <th>Staff</th>\n",
       "      <td>3574</td>\n",
       "      <td>315</td>\n",
       "      <td>2891</td>\n",
       "      <td>3073</td>\n",
       "      <td>3551</td>\n",
       "      <td>349</td>\n",
       "      <td>0</td>\n",
       "      <td>2870</td>\n",
       "      <td>8903</td>\n",
       "      <td>25526</td>\n",
       "    </tr>\n",
       "    <tr>\n",
       "      <th>Technique Leader</th>\n",
       "      <td>241</td>\n",
       "      <td>5477</td>\n",
       "      <td>0</td>\n",
       "      <td>0</td>\n",
       "      <td>0</td>\n",
       "      <td>4723</td>\n",
       "      <td>1293</td>\n",
       "      <td>321</td>\n",
       "      <td>0</td>\n",
       "      <td>12055</td>\n",
       "    </tr>\n",
       "    <tr>\n",
       "      <th>All</th>\n",
       "      <td>17569</td>\n",
       "      <td>61386</td>\n",
       "      <td>12437</td>\n",
       "      <td>12898</td>\n",
       "      <td>14842</td>\n",
       "      <td>53304</td>\n",
       "      <td>14546</td>\n",
       "      <td>15441</td>\n",
       "      <td>37701</td>\n",
       "      <td>240124</td>\n",
       "    </tr>\n",
       "  </tbody>\n",
       "</table>\n",
       "</div>"
      ],
      "text/plain": [
       "dept_name           Customer Service  Development  Finance  Human Resources  \\\n",
       "title                                                                         \n",
       "Assistant Engineer                68         1652        0                0   \n",
       "Engineer                         627        14040        0                0   \n",
       "Manager                            1            1        1                1   \n",
       "Senior Engineer                 1790        38816        0                0   \n",
       "Senior Staff                   11268         1085     9545             9824   \n",
       "Staff                           3574          315     2891             3073   \n",
       "Technique Leader                 241         5477        0                0   \n",
       "All                            17569        61386    12437            12898   \n",
       "\n",
       "dept_name           Marketing  Production  Quality Management  Research  \\\n",
       "title                                                                     \n",
       "Assistant Engineer          0        1402                 389        77   \n",
       "Engineer                    0       12081                3405       830   \n",
       "Manager                     1           1                   1         1   \n",
       "Senior Engineer             0       33625                9458      2250   \n",
       "Senior Staff            11290        1123                   0      9092   \n",
       "Staff                    3551         349                   0      2870   \n",
       "Technique Leader            0        4723                1293       321   \n",
       "All                     14842       53304               14546     15441   \n",
       "\n",
       "dept_name           Sales     All  \n",
       "title                              \n",
       "Assistant Engineer      0    3588  \n",
       "Engineer                0   30983  \n",
       "Manager                 1       9  \n",
       "Senior Engineer         0   85939  \n",
       "Senior Staff        28797   82024  \n",
       "Staff                8903   25526  \n",
       "Technique Leader        0   12055  \n",
       "All                 37701  240124  "
      ]
     },
     "execution_count": 59,
     "metadata": {},
     "output_type": "execute_result"
    }
   ],
   "source": [
    "pd.crosstab(de_total.title, de_total.dept_name, margins=True)"
   ]
  },
  {
   "cell_type": "markdown",
   "id": "00df05e7",
   "metadata": {},
   "source": [
    "### Exercise 3"
   ]
  },
  {
   "cell_type": "markdown",
   "id": "47dbee39",
   "metadata": {},
   "source": [
    "#### 1. Use your get_db_url function to help you explore the data from the chipotle database."
   ]
  },
  {
   "cell_type": "code",
   "execution_count": 7,
   "id": "6b4f4507",
   "metadata": {},
   "outputs": [],
   "source": [
    "from env import host, user, password\n",
    "def get_db_url(user, password, host, database):\n",
    "    return f'mysql+pymysql://{user}:{password}@{host}/{database}'\n",
    "get_db_url = f'mysql+pymysql://{user}:{password}@{host}/chipotle'\n",
    "import pandas as pd\n",
    "import numpy as np"
   ]
  },
  {
   "cell_type": "code",
   "execution_count": 8,
   "id": "e1b9d260",
   "metadata": {},
   "outputs": [],
   "source": [
    "orders = pd.read_sql('SELECT * FROM orders', get_db_url)"
   ]
  },
  {
   "cell_type": "code",
   "execution_count": 9,
   "id": "31de8120",
   "metadata": {},
   "outputs": [
    {
     "data": {
      "text/html": [
       "<div>\n",
       "<style scoped>\n",
       "    .dataframe tbody tr th:only-of-type {\n",
       "        vertical-align: middle;\n",
       "    }\n",
       "\n",
       "    .dataframe tbody tr th {\n",
       "        vertical-align: top;\n",
       "    }\n",
       "\n",
       "    .dataframe thead th {\n",
       "        text-align: right;\n",
       "    }\n",
       "</style>\n",
       "<table border=\"1\" class=\"dataframe\">\n",
       "  <thead>\n",
       "    <tr style=\"text-align: right;\">\n",
       "      <th></th>\n",
       "      <th>id</th>\n",
       "      <th>order_id</th>\n",
       "      <th>quantity</th>\n",
       "      <th>item_name</th>\n",
       "      <th>choice_description</th>\n",
       "      <th>item_price</th>\n",
       "    </tr>\n",
       "  </thead>\n",
       "  <tbody>\n",
       "    <tr>\n",
       "      <th>0</th>\n",
       "      <td>1</td>\n",
       "      <td>1</td>\n",
       "      <td>1</td>\n",
       "      <td>Chips and Fresh Tomato Salsa</td>\n",
       "      <td>nan</td>\n",
       "      <td>$2.39</td>\n",
       "    </tr>\n",
       "    <tr>\n",
       "      <th>1</th>\n",
       "      <td>2</td>\n",
       "      <td>1</td>\n",
       "      <td>1</td>\n",
       "      <td>Izze</td>\n",
       "      <td>[Clementine]</td>\n",
       "      <td>$3.39</td>\n",
       "    </tr>\n",
       "    <tr>\n",
       "      <th>2</th>\n",
       "      <td>3</td>\n",
       "      <td>1</td>\n",
       "      <td>1</td>\n",
       "      <td>Nantucket Nectar</td>\n",
       "      <td>[Apple]</td>\n",
       "      <td>$3.39</td>\n",
       "    </tr>\n",
       "    <tr>\n",
       "      <th>3</th>\n",
       "      <td>4</td>\n",
       "      <td>1</td>\n",
       "      <td>1</td>\n",
       "      <td>Chips and Tomatillo-Green Chili Salsa</td>\n",
       "      <td>nan</td>\n",
       "      <td>$2.39</td>\n",
       "    </tr>\n",
       "    <tr>\n",
       "      <th>4</th>\n",
       "      <td>5</td>\n",
       "      <td>2</td>\n",
       "      <td>2</td>\n",
       "      <td>Chicken Bowl</td>\n",
       "      <td>[Tomatillo-Red Chili Salsa (Hot), [Black Beans...</td>\n",
       "      <td>$16.98</td>\n",
       "    </tr>\n",
       "    <tr>\n",
       "      <th>...</th>\n",
       "      <td>...</td>\n",
       "      <td>...</td>\n",
       "      <td>...</td>\n",
       "      <td>...</td>\n",
       "      <td>...</td>\n",
       "      <td>...</td>\n",
       "    </tr>\n",
       "    <tr>\n",
       "      <th>4617</th>\n",
       "      <td>4618</td>\n",
       "      <td>1833</td>\n",
       "      <td>1</td>\n",
       "      <td>Steak Burrito</td>\n",
       "      <td>[Fresh Tomato Salsa, [Rice, Black Beans, Sour ...</td>\n",
       "      <td>$11.75</td>\n",
       "    </tr>\n",
       "    <tr>\n",
       "      <th>4618</th>\n",
       "      <td>4619</td>\n",
       "      <td>1833</td>\n",
       "      <td>1</td>\n",
       "      <td>Steak Burrito</td>\n",
       "      <td>[Fresh Tomato Salsa, [Rice, Sour Cream, Cheese...</td>\n",
       "      <td>$11.75</td>\n",
       "    </tr>\n",
       "    <tr>\n",
       "      <th>4619</th>\n",
       "      <td>4620</td>\n",
       "      <td>1834</td>\n",
       "      <td>1</td>\n",
       "      <td>Chicken Salad Bowl</td>\n",
       "      <td>[Fresh Tomato Salsa, [Fajita Vegetables, Pinto...</td>\n",
       "      <td>$11.25</td>\n",
       "    </tr>\n",
       "    <tr>\n",
       "      <th>4620</th>\n",
       "      <td>4621</td>\n",
       "      <td>1834</td>\n",
       "      <td>1</td>\n",
       "      <td>Chicken Salad Bowl</td>\n",
       "      <td>[Fresh Tomato Salsa, [Fajita Vegetables, Lettu...</td>\n",
       "      <td>$8.75</td>\n",
       "    </tr>\n",
       "    <tr>\n",
       "      <th>4621</th>\n",
       "      <td>4622</td>\n",
       "      <td>1834</td>\n",
       "      <td>1</td>\n",
       "      <td>Chicken Salad Bowl</td>\n",
       "      <td>[Fresh Tomato Salsa, [Fajita Vegetables, Pinto...</td>\n",
       "      <td>$8.75</td>\n",
       "    </tr>\n",
       "  </tbody>\n",
       "</table>\n",
       "<p>4622 rows × 6 columns</p>\n",
       "</div>"
      ],
      "text/plain": [
       "        id  order_id  quantity                              item_name  \\\n",
       "0        1         1         1           Chips and Fresh Tomato Salsa   \n",
       "1        2         1         1                                   Izze   \n",
       "2        3         1         1                       Nantucket Nectar   \n",
       "3        4         1         1  Chips and Tomatillo-Green Chili Salsa   \n",
       "4        5         2         2                           Chicken Bowl   \n",
       "...    ...       ...       ...                                    ...   \n",
       "4617  4618      1833         1                          Steak Burrito   \n",
       "4618  4619      1833         1                          Steak Burrito   \n",
       "4619  4620      1834         1                     Chicken Salad Bowl   \n",
       "4620  4621      1834         1                     Chicken Salad Bowl   \n",
       "4621  4622      1834         1                     Chicken Salad Bowl   \n",
       "\n",
       "                                     choice_description item_price  \n",
       "0                                                   nan     $2.39   \n",
       "1                                          [Clementine]     $3.39   \n",
       "2                                               [Apple]     $3.39   \n",
       "3                                                   nan     $2.39   \n",
       "4     [Tomatillo-Red Chili Salsa (Hot), [Black Beans...    $16.98   \n",
       "...                                                 ...        ...  \n",
       "4617  [Fresh Tomato Salsa, [Rice, Black Beans, Sour ...    $11.75   \n",
       "4618  [Fresh Tomato Salsa, [Rice, Sour Cream, Cheese...    $11.75   \n",
       "4619  [Fresh Tomato Salsa, [Fajita Vegetables, Pinto...    $11.25   \n",
       "4620  [Fresh Tomato Salsa, [Fajita Vegetables, Lettu...     $8.75   \n",
       "4621  [Fresh Tomato Salsa, [Fajita Vegetables, Pinto...     $8.75   \n",
       "\n",
       "[4622 rows x 6 columns]"
      ]
     },
     "execution_count": 9,
     "metadata": {},
     "output_type": "execute_result"
    }
   ],
   "source": [
    "orders"
   ]
  },
  {
   "cell_type": "code",
   "execution_count": null,
   "id": "9c883408",
   "metadata": {},
   "outputs": [],
   "source": []
  }
 ],
 "metadata": {
  "kernelspec": {
   "display_name": "Python 3",
   "language": "python",
   "name": "python3"
  },
  "language_info": {
   "codemirror_mode": {
    "name": "ipython",
    "version": 3
   },
   "file_extension": ".py",
   "mimetype": "text/x-python",
   "name": "python",
   "nbconvert_exporter": "python",
   "pygments_lexer": "ipython3",
   "version": "3.8.8"
  }
 },
 "nbformat": 4,
 "nbformat_minor": 5
}
