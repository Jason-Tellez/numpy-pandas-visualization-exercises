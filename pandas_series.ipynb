{
 "cells": [
  {
   "cell_type": "markdown",
   "id": "a9ea69a4",
   "metadata": {},
   "source": [
    "# Exercise 1"
   ]
  },
  {
   "cell_type": "code",
   "execution_count": null,
   "id": "0895aad8",
   "metadata": {},
   "outputs": [],
   "source": [
    "import pandas as pd\n",
    "import numpy as np"
   ]
  },
  {
   "cell_type": "code",
   "execution_count": 229,
   "id": "d5c26494",
   "metadata": {},
   "outputs": [
    {
     "data": {
      "text/plain": [
       "pineapple           1\n",
       "gala apple          1\n",
       "watermelon          1\n",
       "tomato              1\n",
       "blueberry           1\n",
       "honeydew            1\n",
       "strawberry          1\n",
       "honeycrisp apple    1\n",
       "blackberry          1\n",
       "gooseberry          1\n",
       "papaya              1\n",
       "dtype: int64"
      ]
     },
     "execution_count": 229,
     "metadata": {},
     "output_type": "execute_result"
    }
   ],
   "source": [
    "fruits = pd.Series([\"kiwi\", \"mango\", \"strawberry\", \"pineapple\", \"gala apple\", \"honeycrisp apple\", \"tomato\", \"watermelon\", \"honeydew\", \"kiwi\", \"kiwi\", \"kiwi\", \"mango\", \"blueberry\", \"blackberry\", \"gooseberry\", \"papaya\"])\n",
    "\n",
    "\n",
    "#1. Determine the number of elements in fruits.\n",
    "fruits.size\n",
    "\n",
    "#2. Output only the index from fruits.\n",
    "fruits.index\n",
    "\n",
    "#3. Output only the values from fruits.\n",
    "fruits.values\n",
    "\n",
    "#4. Confirm the data type of the values in fruits.\n",
    "fruits.dtype\n",
    "\n",
    "#5. Output only the first five values from fruits. Output the last three values. Output two random values from fruits.\n",
    "fruits.head(5)\n",
    "fruits.tail(3)\n",
    "fruits.sample(2)\n",
    "\n",
    "#6. Run the .describe() on fruits to see what information it returns when called on a Series with string values.\n",
    "fruits.astype(str).describe()\n",
    "\n",
    "#7. Run the code necessary to produce only the unique string values from fruits.\n",
    "fruits.unique()\n",
    "\n",
    "#8. Determine how many times each unique string value occurs in fruits.\n",
    "fruits.value_counts()\n",
    "\n",
    "#9. Determine the string value that occurs most frequently in fruits.\n",
    "fruits.mode()\n",
    "\n",
    "#10. Determine the string value that occurs least frequently in fruits.\n",
    "fruits.value_counts().nsmallest(keep = 'all')"
   ]
  },
  {
   "cell_type": "markdown",
   "id": "cfe6f3ef",
   "metadata": {},
   "source": [
    "#  Exercise 2"
   ]
  },
  {
   "cell_type": "code",
   "execution_count": 194,
   "id": "44dd18e5",
   "metadata": {
    "scrolled": true
   },
   "outputs": [
    {
     "name": "stdout",
     "output_type": "stream",
     "text": [
      "2\n",
      "2\n",
      "2\n",
      "4\n",
      "4\n",
      "5\n",
      "3\n",
      "4\n",
      "3\n",
      "2\n",
      "2\n",
      "2\n",
      "2\n",
      "3\n",
      "2\n",
      "4\n",
      "3\n"
     ]
    },
    {
     "data": {
      "text/plain": [
       "5    honeycrisp apple\n",
       "dtype: object"
      ]
     },
     "execution_count": 194,
     "metadata": {},
     "output_type": "execute_result"
    }
   ],
   "source": [
    "#1. Capitalize all the string values in fruits.\n",
    "fruits.str.upper()\n",
    "\n",
    "#2. Count the letter \"a\" in all the string values (use string vectorization).\n",
    "fruits.str.count('a')\n",
    "\n",
    "#3. Output the number of vowels in each and every string value.\n",
    "for fruit in fruits:\n",
    "    all_a = []\n",
    "    for letter in fruit:\n",
    "        if letter in 'aeiou':\n",
    "            all_a += letter\n",
    "    print(len(all_a))\n",
    "    \n",
    "#4. Write the code to get the longest string value from fruits.\n",
    "fruits.str.len().max()\n",
    "\n",
    "#5. Write the code to get the string values with 5 or more letters in the name.\n",
    "fruit_length = 0\n",
    "#for fruit in fruits:\n",
    "  #  if len(fruit) >= 5:\n",
    "  #      fruit_length = range(max(fruit))\n",
    "    #print((fruit_length), ' ',  fruit_length)\n",
    "    \n",
    "#6. Use the .apply method with a lambda function to find the fruit(s) containing the letter \"o\" two or more times.\n",
    "fruits[fruits.apply(lambda fruit: fruit.count('o') >= 2)]\n",
    "\n",
    "#7. Write the code to get only the string values containing the substring \"berry\".\n",
    "fruits[fruits.apply(lambda fruit: fruit.count('berry') >= 1)]\n",
    "\n",
    "#8. Write the code to get only the string values containing the substring \"apple\".\n",
    "fruits[fruits.apply(lambda fruit: fruit.count('apple') >= 1)]\n",
    "\n",
    "#9. Which string value contains the most vowels?\n",
    "vs_fruit = lambda f: sum([f.count(v) for v in 'aeiou'])\n",
    "vs_all_fruit = vs_fruit(fruits.str)\n",
    "fruits[(vs_all_fruit == max(vs_all_fruit))]"
   ]
  },
  {
   "cell_type": "markdown",
   "id": "ec23624b",
   "metadata": {},
   "source": [
    "# Exercise 3, Part 1"
   ]
  },
  {
   "cell_type": "code",
   "execution_count": 271,
   "id": "9aa498d2",
   "metadata": {},
   "outputs": [
    {
     "name": "stdout",
     "output_type": "stream",
     "text": [
      "34\n",
      "166\n"
     ]
    },
    {
     "ename": "NameError",
     "evalue": "name 'plot' is not defined",
     "output_type": "error",
     "traceback": [
      "\u001b[0;31m---------------------------------------------------------------------------\u001b[0m",
      "\u001b[0;31mNameError\u001b[0m                                 Traceback (most recent call last)",
      "\u001b[0;32m<ipython-input-271-c4f095d1c827>\u001b[0m in \u001b[0;36m<module>\u001b[0;34m\u001b[0m\n\u001b[1;32m     28\u001b[0m \u001b[0;32mimport\u001b[0m \u001b[0mmatplotlib\u001b[0m \u001b[0;32mas\u001b[0m \u001b[0mplt\u001b[0m\u001b[0;34m\u001b[0m\u001b[0;34m\u001b[0m\u001b[0m\n\u001b[1;32m     29\u001b[0m \u001b[0mletters\u001b[0m\u001b[0;34m.\u001b[0m\u001b[0mvalue_counts\u001b[0m\u001b[0;34m(\u001b[0m\u001b[0;34m)\u001b[0m\u001b[0;34m.\u001b[0m\u001b[0mhead\u001b[0m\u001b[0;34m(\u001b[0m\u001b[0;36m6\u001b[0m\u001b[0;34m)\u001b[0m\u001b[0;34m.\u001b[0m\u001b[0mplot\u001b[0m\u001b[0;34m(\u001b[0m\u001b[0mtitle\u001b[0m\u001b[0;34m=\u001b[0m\u001b[0;34m'Six Most Frequent Letters'\u001b[0m\u001b[0;34m,\u001b[0m \u001b[0mkind\u001b[0m\u001b[0;34m=\u001b[0m\u001b[0;34m'bar'\u001b[0m\u001b[0;34m,\u001b[0m \u001b[0mcolor\u001b[0m\u001b[0;34m=\u001b[0m\u001b[0;34m'green'\u001b[0m\u001b[0;34m,\u001b[0m \u001b[0mec\u001b[0m\u001b[0;34m=\u001b[0m\u001b[0;34m'black'\u001b[0m\u001b[0;34m,\u001b[0m \u001b[0mwidth\u001b[0m \u001b[0;34m=\u001b[0m \u001b[0;36m0.9\u001b[0m\u001b[0;34m)\u001b[0m\u001b[0;34m.\u001b[0m\u001b[0mset\u001b[0m\u001b[0;34m(\u001b[0m\u001b[0mxlabel\u001b[0m \u001b[0;34m=\u001b[0m \u001b[0;34m'Letter'\u001b[0m\u001b[0;34m,\u001b[0m \u001b[0mylabel\u001b[0m \u001b[0;34m=\u001b[0m \u001b[0;34m'Frequency'\u001b[0m\u001b[0;34m)\u001b[0m\u001b[0;34m\u001b[0m\u001b[0;34m\u001b[0m\u001b[0m\n\u001b[0;32m---> 30\u001b[0;31m \u001b[0mplot\u001b[0m\u001b[0;34m.\u001b[0m\u001b[0mshow\u001b[0m\u001b[0;34m(\u001b[0m\u001b[0;34m)\u001b[0m\u001b[0;34m\u001b[0m\u001b[0;34m\u001b[0m\u001b[0m\n\u001b[0m",
      "\u001b[0;31mNameError\u001b[0m: name 'plot' is not defined"
     ]
    },
    {
     "data": {
      "image/png": "[encoded data removed]",
      "text/plain": [
       "<Figure size 432x288 with 1 Axes>"
      ]
     },
     "metadata": {
      "needs_background": "light"
     },
     "output_type": "display_data"
    }
   ],
   "source": [
    "letters = list('hnvidduckkqxwymbimkccexbkmqygkxoyndmcxnwqarhyffsjpsrabtjzsypmzadfavyrnndndvswreauxovncxtwzpwejilzjrmmbbgbyxvjtewqthafnbkqplarokkyydtubbmnexoypulzwfhqvckdpqtpoppzqrmcvhhpwgjwupgzhiofohawytlsiyecuproguy')\n",
    "letters = pd.Series(letters)\n",
    "#1. Which letter occurs the most frequently in the letters Series?\n",
    "letters.value_counts().idxmax()\n",
    "\n",
    "#2. Which letter occurs the Least frequently?\n",
    "letters.value_counts().idxmin()\n",
    "\n",
    "#3. How many vowels are in the Series?\n",
    "v_count = 0\n",
    "for letter in letters:\n",
    "    if letter in 'aeiou':\n",
    "        v_count += 1\n",
    "print(v_count)\n",
    "\n",
    "#4. How many consonants are in the Series?\n",
    "c_count = 0\n",
    "for letter in letters:\n",
    "    if letter not in 'aeiou':\n",
    "        c_count += 1\n",
    "print(c_count)\n",
    "\n",
    "#5. Create a Series that has all of the same letters but uppercased.\n",
    "letters.str.capitalize()\n",
    "\n",
    "#6. Create a bar plot of the frequencies of the 6 most commonly occuring letters.\n",
    "import matplotlib as plt\n",
    "letters.value_counts().head(6).plot(title='Six Most Frequent Letters', kind='bar', color='green', ec='black', width = 0.9).set(xlabel = 'Letter', ylabel = 'Frequency')\n",
    "plot.show()"
   ]
  },
  {
   "cell_type": "markdown",
   "id": "66ec6a1f",
   "metadata": {},
   "source": [
    "# Exercise 3, Part 2"
   ]
  },
  {
   "cell_type": "code",
   "execution_count": 279,
   "id": "d45824c4",
   "metadata": {},
   "outputs": [],
   "source": [
    "numbers = pd.Series(['$796,459.41', '$278.60', '$482,571.67', '$4,503,915.98', '$2,121,418.3', '$1,260,813.3', '$87,231.01', '$1,509,175.45', '$4,138,548.00', '$2,848,913.80', '$594,715.39', '$4,789,988.17', '$4,513,644.5', '$3,191,059.97', '$1,758,712.24', '$4,338,283.54', '$4,738,303.38', '$2,791,759.67', '$769,681.94', '$452,650.23'])"
   ]
  },
  {
   "cell_type": "code",
   "execution_count": 359,
   "id": "2e71906c",
   "metadata": {},
   "outputs": [
    {
     "name": "stdout",
     "output_type": "stream",
     "text": [
      "object\n",
      "20\n",
      "range = (278.6, 4789988.17)\n"
     ]
    },
    {
     "ename": "NameError",
     "evalue": "name 'plot' is not defined",
     "output_type": "error",
     "traceback": [
      "\u001b[0;31m---------------------------------------------------------------------------\u001b[0m",
      "\u001b[0;31mNameError\u001b[0m                                 Traceback (most recent call last)",
      "\u001b[0;32m<ipython-input-359-8d0aa3146937>\u001b[0m in \u001b[0;36m<module>\u001b[0;34m\u001b[0m\n\u001b[1;32m     27\u001b[0m \u001b[0;32mimport\u001b[0m \u001b[0mmatplotlib\u001b[0m \u001b[0;32mas\u001b[0m \u001b[0mplt\u001b[0m\u001b[0;34m\u001b[0m\u001b[0;34m\u001b[0m\u001b[0m\n\u001b[1;32m     28\u001b[0m \u001b[0mnum_chart\u001b[0m\u001b[0;34m.\u001b[0m\u001b[0mplot\u001b[0m\u001b[0;34m(\u001b[0m\u001b[0mtitle\u001b[0m\u001b[0;34m=\u001b[0m\u001b[0;34m'Distribution of Values'\u001b[0m\u001b[0;34m,\u001b[0m \u001b[0mkind\u001b[0m\u001b[0;34m=\u001b[0m\u001b[0;34m'bar'\u001b[0m\u001b[0;34m,\u001b[0m \u001b[0mcolor\u001b[0m\u001b[0;34m=\u001b[0m\u001b[0;34m'green'\u001b[0m\u001b[0;34m,\u001b[0m \u001b[0mec\u001b[0m\u001b[0;34m=\u001b[0m\u001b[0;34m'black'\u001b[0m\u001b[0;34m,\u001b[0m \u001b[0mwidth\u001b[0m \u001b[0;34m=\u001b[0m \u001b[0;36m0.9\u001b[0m\u001b[0;34m)\u001b[0m\u001b[0;34m.\u001b[0m\u001b[0mset\u001b[0m\u001b[0;34m(\u001b[0m\u001b[0mxlabel\u001b[0m \u001b[0;34m=\u001b[0m \u001b[0;34m'Given Values'\u001b[0m\u001b[0;34m,\u001b[0m \u001b[0mylabel\u001b[0m \u001b[0;34m=\u001b[0m \u001b[0;34m'# of Values'\u001b[0m\u001b[0;34m)\u001b[0m\u001b[0;34m\u001b[0m\u001b[0;34m\u001b[0m\u001b[0m\n\u001b[0;32m---> 29\u001b[0;31m \u001b[0mplot\u001b[0m\u001b[0;34m.\u001b[0m\u001b[0mshow\u001b[0m\u001b[0;34m(\u001b[0m\u001b[0;34m)\u001b[0m\u001b[0;34m\u001b[0m\u001b[0;34m\u001b[0m\u001b[0m\n\u001b[0m",
      "\u001b[0;31mNameError\u001b[0m: name 'plot' is not defined"
     ]
    },
    {
     "data": {
      "image/png": "[encoded data removed]",
      "text/plain": [
       "<Figure size 432x288 with 1 Axes>"
      ]
     },
     "metadata": {
      "needs_background": "light"
     },
     "output_type": "display_data"
    }
   ],
   "source": [
    "#1. What is the data type of the numbers Series?\n",
    "print(numbers.dtype)\n",
    "\n",
    "#2. How many elements are in the number Series?\n",
    "print(numbers.size)\n",
    "\n",
    "#3. Perform the necessary manipulations by accessing Series attributes and methods to convert the numbers Series to a numeric data type.\n",
    "fl_numbers = [float(number.replace('$', '').replace(',', '')) for number in numbers]\n",
    "    \n",
    "#4. Run the code to discover the maximum value from the Series.\n",
    "max(fl_numbers)\n",
    "#4789988.17\n",
    "\n",
    "#5. Run the code to discover the minimum value from the Series.\n",
    "min(fl_numbers)\n",
    "#278.6\n",
    "\n",
    "#6. What is the range of the values in the Series?\n",
    "fl_num = pd.Series(fl_numbers)\n",
    "print(f'range = ({min(fl_numbers)}, {max(fl_numbers)})')\n",
    "\n",
    "#7. Bin the data into 4 equally sized intervals or bins and output how many values fall into each bin.\n",
    "\n",
    "num_chart = pd.cut(fl_num, 4).value_counts()\n",
    "\n",
    "#8. Plot the binned data in a meaningful way. Be sure to include a title and axis labels.\n",
    "import matplotlib as plt\n",
    "num_chart.plot(title='Distribution of Values', kind='bar', color='green', ec='black', width = 0.9).set(xlabel = 'Given Values', ylabel = '# of Values')\n",
    "plot.show()"
   ]
  },
  {
   "cell_type": "markdown",
   "id": "297dc7e8",
   "metadata": {},
   "source": [
    "# Exercise 3, Part 3"
   ]
  },
  {
   "cell_type": "code",
   "execution_count": 447,
   "id": "b93e3043",
   "metadata": {},
   "outputs": [
    {
     "data": {
      "text/plain": [
       "count    20.000000\n",
       "mean     78.150000\n",
       "std      11.352139\n",
       "min      60.000000\n",
       "25%      70.500000\n",
       "50%      79.000000\n",
       "75%      85.250000\n",
       "max      96.000000\n",
       "dtype: float64"
      ]
     },
     "execution_count": 447,
     "metadata": {},
     "output_type": "execute_result"
    }
   ],
   "source": [
    "exam_scores = pd.Series([60, 86, 75, 62, 93, 71, 60, 83, 95, 78, 65, 72, 69, 81, 96, 80, 85, 92, 82, 78])\n",
    "import numpy as np\n",
    "\n",
    "#1. How many elements are in the exam_scores Series?\n",
    "exam_scores.size\n",
    "\n",
    "#2. Run the code to discover the minimum, the maximum, the mean, and the median scores for the exam_scores Series.\n",
    "exam_scores.describe()\n"
   ]
  },
  {
   "cell_type": "code",
   "execution_count": 465,
   "id": "d35decf6",
   "metadata": {},
   "outputs": [
    {
     "data": {
      "text/plain": [
       "[Text(0.5, 0, 'Letter Grade'), Text(0, 0.5, 'Frequency')]"
      ]
     },
     "execution_count": 465,
     "metadata": {},
     "output_type": "execute_result"
    },
    {
     "data": {
      "image/png": "[encoded data removed]",
      "text/plain": [
       "<Figure size 432x288 with 1 Axes>"
      ]
     },
     "metadata": {
      "needs_background": "light"
     },
     "output_type": "display_data"
    }
   ],
   "source": [
    "#3. Plot the Series in a meaningful way and make sure your chart has a title and axis labels.\n",
    "import matplotlib as plt\n",
    "exam_bins = ['F', 'D', 'C', 'B', 'A']\n",
    "exam_score = pd.cut(sorted_exams, bins = [0, 60, 70, 80, 90, 100], labels = exam_bins).value_counts().sort_index(ascending=False)\n",
    "exam_score.plot(title='Exam Grade Dist.', \n",
    "                kind='bar', \n",
    "                rot=0, \n",
    "                color='cyan', \n",
    "                ec='black', \n",
    "                width = 0.9).set(xlabel='Letter Grade', \n",
    "                                 ylabel='Frequency')"
   ]
  },
  {
   "cell_type": "code",
   "execution_count": 467,
   "id": "25701805",
   "metadata": {},
   "outputs": [
    {
     "name": "stdout",
     "output_type": "stream",
     "text": [
      "0      64\n",
      "6      64\n",
      "3      66\n",
      "10     69\n",
      "12     73\n",
      "5      75\n",
      "11     76\n",
      "2      79\n",
      "9      82\n",
      "19     82\n",
      "15     84\n",
      "13     85\n",
      "18     86\n",
      "7      87\n",
      "16     89\n",
      "1      90\n",
      "17     96\n",
      "4      97\n",
      "8      99\n",
      "14    100\n",
      "dtype: int64\n"
     ]
    }
   ],
   "source": [
    "#4. Write the code necessary to implement a curve for your exam_grades Series and save this as curved_grades. Add the necessary points to the highest grade to make it 100, and add the same number of points to every other score in the Series as well.\n",
    "curve = exam_scores.max()\n",
    "curve = 100 - curve\n",
    "curved_grades = exam_scores + curve\n",
    "print(curved_grades.sort_values())"
   ]
  },
  {
   "cell_type": "code",
   "execution_count": 535,
   "id": "a14bd09e",
   "metadata": {},
   "outputs": [
    {
     "data": {
      "text/plain": [
       "A    4\n",
       "B    8\n",
       "C    4\n",
       "F    4\n",
       "dtype: int64"
      ]
     },
     "execution_count": 535,
     "metadata": {},
     "output_type": "execute_result"
    }
   ],
   "source": [
    "#5. Use a method to convert each of the numeric values in the curved_grades Series into a categorical value of letter grades. For example, 86 should be a 'B' and 95 should be an 'A'. Save this as a Series named letter_grades.\n",
    "bins_grades = [0, 70, 80, 90, 100]\n",
    "letters = ['F', 'C', 'B', 'A']\n",
    "letter_grades = pd.cut(pd.to_numeric(curved_grades), bins = bins_grades, labels = letters).value_counts().sort_index(ascending=False)\n",
    "letter_grades"
   ]
  },
  {
   "cell_type": "code",
   "execution_count": 536,
   "id": "cfa77fe2",
   "metadata": {},
   "outputs": [
    {
     "data": {
      "text/plain": [
       "[Text(0.5, 0, 'Letter Grade'), Text(0, 0.5, 'Frequency')]"
      ]
     },
     "execution_count": 536,
     "metadata": {},
     "output_type": "execute_result"
    },
    {
     "data": {
      "image/png": "[encoded data removed]",
      "text/plain": [
       "<Figure size 432x288 with 1 Axes>"
      ]
     },
     "metadata": {
      "needs_background": "light"
     },
     "output_type": "display_data"
    }
   ],
   "source": [
    "#6. Plot your new categorical letter_grades Series in a meaninful way and include a title and axis labels.\n",
    "letter_grades.plot(title='Exam Grade Dist.', \n",
    "                kind='bar', \n",
    "                rot=0, \n",
    "                color='cyan', \n",
    "                ec='black', \n",
    "                width = 0.9).set(xlabel='Letter Grade', \n",
    "                                 ylabel='Frequency')"
   ]
  }
 ],
 "metadata": {
  "kernelspec": {
   "display_name": "Python 3",
   "language": "python",
   "name": "python3"
  },
  "language_info": {
   "codemirror_mode": {
    "name": "ipython",
    "version": 3
   },
   "file_extension": ".py",
   "mimetype": "text/x-python",
   "name": "python",
   "nbconvert_exporter": "python",
   "pygments_lexer": "ipython3",
   "version": "3.8.8"
  }
 },
 "nbformat": 4,
 "nbformat_minor": 5
}
