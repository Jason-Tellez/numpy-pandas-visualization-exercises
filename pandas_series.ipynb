{
 "cells": [
  {
   "cell_type": "code",
   "execution_count": 1,
   "id": "f11626d9",
   "metadata": {},
   "outputs": [
    {
     "data": {
      "text/plain": [
       "pineapple           1\n",
       "gala apple          1\n",
       "watermelon          1\n",
       "tomato              1\n",
       "blueberry           1\n",
       "honeydew            1\n",
       "strawberry          1\n",
       "honeycrisp apple    1\n",
       "blackberry          1\n",
       "gooseberry          1\n",
       "papaya              1\n",
       "dtype: int64"
      ]
     },
     "execution_count": 1,
     "metadata": {},
     "output_type": "execute_result"
    }
   ],
   "source": [
    "import pandas as pd\n",
    "import numpy as np\n",
    "\n",
    "\n",
    "fruits = pd.Series([\"kiwi\", \"mango\", \"strawberry\", \"pineapple\", \"gala apple\", \"honeycrisp apple\", \"tomato\", \"watermelon\", \"honeydew\", \"kiwi\", \"kiwi\", \"kiwi\", \"mango\", \"blueberry\", \"blackberry\", \"gooseberry\", \"papaya\"])\n",
    "\n",
    "                                                        ##Exercises 1\n",
    "\n",
    "#1. Determine the number of elements in fruits.\n",
    "fruits.size\n",
    "\n",
    "#2. Output only the index from fruits.\n",
    "fruits.index\n",
    "\n",
    "#3. Output only the values from fruits.\n",
    "fruits.values\n",
    "\n",
    "#4. Confirm the data type of the values in fruits.\n",
    "fruits.dtype\n",
    "\n",
    "#5. Output only the first five values from fruits. Output the last three values. Output two random values from fruits.\n",
    "fruits.head(5)\n",
    "fruits.tail(3)\n",
    "fruits.sample(2)\n",
    "\n",
    "#6. Run the .describe() on fruits to see what information it returns when called on a Series with string values.\n",
    "fruits.astype(str).describe()\n",
    "\n",
    "#7. Run the code necessary to produce only the unique string values from fruits.\n",
    "fruits.unique()\n",
    "\n",
    "#8. Determine how many times each unique string value occurs in fruits.\n",
    "fruits.value_counts()\n",
    "\n",
    "#9. Determine the string value that occurs most frequently in fruits.\n",
    "fruits.mode()\n",
    "\n",
    "#10. Determine the string value that occurs least frequently in fruits.\n",
    "fruits.value_counts().nsmallest(keep = 'all')"
   ]
  }
 ],
 "metadata": {
  "kernelspec": {
   "display_name": "Python 3",
   "language": "python",
   "name": "python3"
  },
  "language_info": {
   "codemirror_mode": {
    "name": "ipython",
    "version": 3
   },
   "file_extension": ".py",
   "mimetype": "text/x-python",
   "name": "python",
   "nbconvert_exporter": "python",
   "pygments_lexer": "ipython3",
   "version": "3.8.8"
  }
 },
 "nbformat": 4,
 "nbformat_minor": 5
}
